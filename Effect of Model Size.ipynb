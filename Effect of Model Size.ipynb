{
 "cells": [
  {
   "cell_type": "markdown",
   "metadata": {},
   "source": [
    "## Effect of Model Size"
   ]
  },
  {
   "cell_type": "code",
   "execution_count": null,
   "metadata": {
    "_cell_guid": "b1076dfc-b9ad-4769-8c92-a6c4dae69d19",
    "_uuid": "8f2839f25d086af736a60e9eeb907d3b93b6e0e5",
    "execution": {
     "iopub.execute_input": "2022-07-04T11:59:23.978054Z",
     "iopub.status.busy": "2022-07-04T11:59:23.976601Z",
     "iopub.status.idle": "2022-07-04T11:59:24.012943Z",
     "shell.execute_reply": "2022-07-04T11:59:24.011903Z",
     "shell.execute_reply.started": "2022-07-04T11:59:23.977844Z"
    }
   },
   "outputs": [],
   "source": [
    "# PHISHING DETECTION USING MACHINE LEARNING\n",
    "# By Ifediora Okolo"
   ]
  },
  {
   "cell_type": "markdown",
   "metadata": {},
   "source": [
    "# Import the libraries"
   ]
  },
  {
   "cell_type": "code",
   "execution_count": null,
   "metadata": {
    "execution": {
     "iopub.execute_input": "2022-07-04T11:59:24.283645Z",
     "iopub.status.busy": "2022-07-04T11:59:24.282309Z",
     "iopub.status.idle": "2022-07-04T11:59:27.241311Z",
     "shell.execute_reply": "2022-07-04T11:59:27.239891Z",
     "shell.execute_reply.started": "2022-07-04T11:59:24.283591Z"
    }
   },
   "outputs": [],
   "source": [
    "import matplotlib.pyplot as plt\n",
    "import seaborn as sns\n",
    "from nltk.tokenize import RegexpTokenizer\n",
    "from nltk.stem.snowball import SnowballStemmer\n",
    "from sklearn.feature_extraction.text import CountVectorizer\n",
    "from sklearn.model_selection import train_test_split\n",
    "from sklearn.utils import shuffle\n",
    "from sklearn.metrics import accuracy_score, precision_score, recall_score, confusion_matrix\n",
    "from sklearn.preprocessing import OneHotEncoder\n",
    "from tensorflow import keras\n",
    "from keras.models import Sequential\n",
    "from keras import Input\n",
    "from keras.layers import Dense\n",
    "import numpy as np # linear algebra\n",
    "import pandas as pd # data processing"
   ]
  },
  {
   "cell_type": "markdown",
   "metadata": {},
   "source": [
    "# Read the data"
   ]
  },
  {
   "cell_type": "code",
   "execution_count": null,
   "metadata": {
    "execution": {
     "iopub.execute_input": "2022-07-04T11:59:27.244373Z",
     "iopub.status.busy": "2022-07-04T11:59:27.243560Z",
     "iopub.status.idle": "2022-07-04T11:59:28.108026Z",
     "shell.execute_reply": "2022-07-04T11:59:28.106817Z",
     "shell.execute_reply.started": "2022-07-04T11:59:27.244330Z"
    }
   },
   "outputs": [],
   "source": [
    "df = pd.read_csv(\"phishing_site_urls.csv\")\n",
    "print(df.shape)\n",
    "df.head()"
   ]
  },
  {
   "cell_type": "code",
   "execution_count": null,
   "metadata": {
    "execution": {
     "iopub.execute_input": "2022-07-04T11:59:28.110404Z",
     "iopub.status.busy": "2022-07-04T11:59:28.110015Z",
     "iopub.status.idle": "2022-07-04T11:59:28.150946Z",
     "shell.execute_reply": "2022-07-04T11:59:28.149409Z",
     "shell.execute_reply.started": "2022-07-04T11:59:28.110367Z"
    }
   },
   "outputs": [],
   "source": [
    "df.Label.value_counts()"
   ]
  },
  {
   "cell_type": "code",
   "execution_count": null,
   "metadata": {
    "execution": {
     "iopub.execute_input": "2022-07-04T11:59:28.153930Z",
     "iopub.status.busy": "2022-07-04T11:59:28.153545Z",
     "iopub.status.idle": "2022-07-04T11:59:28.656173Z",
     "shell.execute_reply": "2022-07-04T11:59:28.654470Z",
     "shell.execute_reply.started": "2022-07-04T11:59:28.153896Z"
    }
   },
   "outputs": [],
   "source": [
    "sns.countplot(data=df, x=\"Label\")\n",
    "plt.show()"
   ]
  },
  {
   "cell_type": "markdown",
   "metadata": {},
   "source": [
    "# Shuffle the data"
   ]
  },
  {
   "cell_type": "code",
   "execution_count": null,
   "metadata": {
    "execution": {
     "iopub.execute_input": "2022-07-04T11:59:28.658262Z",
     "iopub.status.busy": "2022-07-04T11:59:28.657572Z",
     "iopub.status.idle": "2022-07-04T11:59:28.807843Z",
     "shell.execute_reply": "2022-07-04T11:59:28.806356Z",
     "shell.execute_reply.started": "2022-07-04T11:59:28.658223Z"
    }
   },
   "outputs": [],
   "source": [
    "df_shuffled = shuffle(df, random_state=42)"
   ]
  },
  {
   "cell_type": "markdown",
   "metadata": {},
   "source": [
    "### Choose 10,000 samples"
   ]
  },
  {
   "cell_type": "code",
   "execution_count": null,
   "metadata": {
    "execution": {
     "iopub.execute_input": "2022-07-04T11:59:28.812013Z",
     "iopub.status.busy": "2022-07-04T11:59:28.811476Z",
     "iopub.status.idle": "2022-07-04T11:59:28.817899Z",
     "shell.execute_reply": "2022-07-04T11:59:28.816129Z",
     "shell.execute_reply.started": "2022-07-04T11:59:28.811964Z"
    }
   },
   "outputs": [],
   "source": [
    "data_size = 10000"
   ]
  },
  {
   "cell_type": "code",
   "execution_count": null,
   "metadata": {
    "execution": {
     "iopub.execute_input": "2022-07-04T11:59:28.820944Z",
     "iopub.status.busy": "2022-07-04T11:59:28.819980Z",
     "iopub.status.idle": "2022-07-04T11:59:28.832661Z",
     "shell.execute_reply": "2022-07-04T11:59:28.831337Z",
     "shell.execute_reply.started": "2022-07-04T11:59:28.820891Z"
    }
   },
   "outputs": [],
   "source": [
    "df_used = df_shuffled[:data_size].copy()"
   ]
  },
  {
   "cell_type": "code",
   "execution_count": null,
   "metadata": {
    "execution": {
     "iopub.execute_input": "2022-07-04T11:59:29.006730Z",
     "iopub.status.busy": "2022-07-04T11:59:29.006024Z",
     "iopub.status.idle": "2022-07-04T11:59:29.021524Z",
     "shell.execute_reply": "2022-07-04T11:59:29.020583Z",
     "shell.execute_reply.started": "2022-07-04T11:59:29.006667Z"
    }
   },
   "outputs": [],
   "source": [
    "df_used.info()"
   ]
  },
  {
   "cell_type": "markdown",
   "metadata": {},
   "source": [
    "# Replace the labels"
   ]
  },
  {
   "cell_type": "code",
   "execution_count": null,
   "metadata": {
    "execution": {
     "iopub.execute_input": "2022-07-04T11:59:29.025644Z",
     "iopub.status.busy": "2022-07-04T11:59:29.024677Z",
     "iopub.status.idle": "2022-07-04T11:59:29.043400Z",
     "shell.execute_reply": "2022-07-04T11:59:29.042509Z",
     "shell.execute_reply.started": "2022-07-04T11:59:29.025598Z"
    }
   },
   "outputs": [],
   "source": [
    "df_used.replace({'good':0, 'bad':1}, inplace=True)"
   ]
  },
  {
   "cell_type": "code",
   "execution_count": null,
   "metadata": {
    "execution": {
     "iopub.execute_input": "2022-07-04T11:59:29.046476Z",
     "iopub.status.busy": "2022-07-04T11:59:29.045196Z",
     "iopub.status.idle": "2022-07-04T11:59:29.060692Z",
     "shell.execute_reply": "2022-07-04T11:59:29.059328Z",
     "shell.execute_reply.started": "2022-07-04T11:59:29.046406Z"
    }
   },
   "outputs": [],
   "source": [
    "df_used.Label.value_counts()"
   ]
  },
  {
   "cell_type": "markdown",
   "metadata": {},
   "source": [
    "# Divide the data into features and labels"
   ]
  },
  {
   "cell_type": "code",
   "execution_count": null,
   "metadata": {
    "execution": {
     "iopub.execute_input": "2022-07-04T11:59:29.063315Z",
     "iopub.status.busy": "2022-07-04T11:59:29.062553Z",
     "iopub.status.idle": "2022-07-04T11:59:29.075697Z",
     "shell.execute_reply": "2022-07-04T11:59:29.074451Z",
     "shell.execute_reply.started": "2022-07-04T11:59:29.063267Z"
    }
   },
   "outputs": [],
   "source": [
    "X = df_used[['URL']].copy()\n",
    "y = df_used.Label.copy()"
   ]
  },
  {
   "cell_type": "markdown",
   "metadata": {},
   "source": [
    "# Initialize the tokenizer, stemmer, and Vectorizer"
   ]
  },
  {
   "cell_type": "code",
   "execution_count": null,
   "metadata": {
    "execution": {
     "iopub.execute_input": "2022-07-04T11:59:29.079142Z",
     "iopub.status.busy": "2022-07-04T11:59:29.078019Z",
     "iopub.status.idle": "2022-07-04T11:59:29.090069Z",
     "shell.execute_reply": "2022-07-04T11:59:29.088752Z",
     "shell.execute_reply.started": "2022-07-04T11:59:29.079095Z"
    }
   },
   "outputs": [],
   "source": [
    "tokenizer = RegexpTokenizer(r'[A-Za-z]+')\n",
    "stemmer = SnowballStemmer(\"english\")\n",
    "cv = CountVectorizer()"
   ]
  },
  {
   "cell_type": "markdown",
   "metadata": {},
   "source": [
    "# Prepare the data"
   ]
  },
  {
   "cell_type": "code",
   "execution_count": null,
   "metadata": {
    "execution": {
     "iopub.execute_input": "2022-07-04T11:59:29.092138Z",
     "iopub.status.busy": "2022-07-04T11:59:29.091658Z",
     "iopub.status.idle": "2022-07-04T11:59:29.109806Z",
     "shell.execute_reply": "2022-07-04T11:59:29.108249Z",
     "shell.execute_reply.started": "2022-07-04T11:59:29.092101Z"
    }
   },
   "outputs": [],
   "source": [
    "def prepare_data(X) :\n",
    "    X['text_tokenized'] = X.URL.map(lambda t: tokenizer.tokenize(t))\n",
    "    X['text_stemmed'] = X.text_tokenized.map(lambda t: [stemmer.stem(word) for word in t])\n",
    "    X['text_sent'] = X.text_stemmed.map(lambda t: ' '.join(t))\n",
    "    features = cv.fit_transform(X.text_sent)\n",
    "    return X, features"
   ]
  },
  {
   "cell_type": "code",
   "execution_count": null,
   "metadata": {
    "execution": {
     "iopub.execute_input": "2022-07-04T11:59:29.112140Z",
     "iopub.status.busy": "2022-07-04T11:59:29.111436Z",
     "iopub.status.idle": "2022-07-04T11:59:29.608485Z",
     "shell.execute_reply": "2022-07-04T11:59:29.607039Z",
     "shell.execute_reply.started": "2022-07-04T11:59:29.112092Z"
    }
   },
   "outputs": [],
   "source": [
    "X, features = prepare_data(X)"
   ]
  },
  {
   "cell_type": "markdown",
   "metadata": {},
   "source": [
    "# Import and intitialize the models"
   ]
  },
  {
   "cell_type": "code",
   "execution_count": null,
   "metadata": {
    "execution": {
     "iopub.execute_input": "2022-07-04T11:59:29.611186Z",
     "iopub.status.busy": "2022-07-04T11:59:29.610107Z",
     "iopub.status.idle": "2022-07-04T11:59:29.652259Z",
     "shell.execute_reply": "2022-07-04T11:59:29.650883Z",
     "shell.execute_reply.started": "2022-07-04T11:59:29.611042Z"
    }
   },
   "outputs": [],
   "source": [
    "from sklearn.linear_model import LogisticRegression\n",
    "from sklearn.neighbors import KNeighborsClassifier\n",
    "from sklearn.ensemble import AdaBoostClassifier\n",
    "from sklearn.ensemble import RandomForestClassifier\n",
    "from sklearn.svm import SVC"
   ]
  },
  {
   "cell_type": "code",
   "execution_count": null,
   "metadata": {
    "execution": {
     "iopub.execute_input": "2022-07-04T11:59:29.656177Z",
     "iopub.status.busy": "2022-07-04T11:59:29.655654Z",
     "iopub.status.idle": "2022-07-04T11:59:29.661919Z",
     "shell.execute_reply": "2022-07-04T11:59:29.660873Z",
     "shell.execute_reply.started": "2022-07-04T11:59:29.656137Z"
    }
   },
   "outputs": [],
   "source": [
    "logreg = LogisticRegression()\n",
    "knn = KNeighborsClassifier()\n",
    "ad_c=AdaBoostClassifier()\n",
    "rfc = RandomForestClassifier()\n",
    "svc = SVC()"
   ]
  },
  {
   "cell_type": "markdown",
   "metadata": {},
   "source": [
    "# Train and test the models using different training percentages"
   ]
  },
  {
   "cell_type": "code",
   "execution_count": null,
   "metadata": {
    "execution": {
     "iopub.execute_input": "2022-07-04T11:59:29.664893Z",
     "iopub.status.busy": "2022-07-04T11:59:29.664527Z",
     "iopub.status.idle": "2022-07-04T11:59:29.678490Z",
     "shell.execute_reply": "2022-07-04T11:59:29.677054Z",
     "shell.execute_reply.started": "2022-07-04T11:59:29.664861Z"
    }
   },
   "outputs": [],
   "source": [
    "def train_test_model(model, X, y, training_percentage) :\n",
    "    trainX, testX, trainY, testY = train_test_split(X, y, test_size=1-training_percentage, stratify=y, random_state=42)\n",
    "    model.fit(trainX, trainY)\n",
    "    predY = model.predict(testX)\n",
    "    accuracy = accuracy_score(testY, predY)\n",
    "    precision = precision_score(testY, predY, pos_label=1)\n",
    "    recall = recall_score(testY, predY, pos_label=1)\n",
    "    return accuracy, precision, recall  "
   ]
  },
  {
   "cell_type": "code",
   "execution_count": null,
   "metadata": {
    "execution": {
     "iopub.execute_input": "2022-07-04T11:59:29.680924Z",
     "iopub.status.busy": "2022-07-04T11:59:29.680545Z",
     "iopub.status.idle": "2022-07-04T11:59:29.693380Z",
     "shell.execute_reply": "2022-07-04T11:59:29.692359Z",
     "shell.execute_reply.started": "2022-07-04T11:59:29.680890Z"
    }
   },
   "outputs": [],
   "source": [
    "training_sizes = np.array([0.1, 0.2, 0.3, 0.4, 0.5, 0.6, 0.7, 0.8, 0.9])"
   ]
  },
  {
   "cell_type": "code",
   "execution_count": null,
   "metadata": {
    "execution": {
     "iopub.execute_input": "2022-07-04T11:59:29.695642Z",
     "iopub.status.busy": "2022-07-04T11:59:29.694694Z",
     "iopub.status.idle": "2022-07-04T11:59:29.708490Z",
     "shell.execute_reply": "2022-07-04T11:59:29.707425Z",
     "shell.execute_reply.started": "2022-07-04T11:59:29.695602Z"
    }
   },
   "outputs": [],
   "source": [
    "def model_results(model) :\n",
    "    results = []\n",
    "    for p in training_sizes :\n",
    "        results.append(train_test_model(model, features, y, p))\n",
    "    return pd.DataFrame(results, columns=['Accuracy', 'Precision', 'Recall'])"
   ]
  },
  {
   "cell_type": "code",
   "execution_count": null,
   "metadata": {
    "execution": {
     "iopub.execute_input": "2022-07-04T11:59:29.855223Z",
     "iopub.status.busy": "2022-07-04T11:59:29.853966Z",
     "iopub.status.idle": "2022-07-04T12:00:24.818958Z",
     "shell.execute_reply": "2022-07-04T12:00:24.817415Z",
     "shell.execute_reply.started": "2022-07-04T11:59:29.855180Z"
    }
   },
   "outputs": [],
   "source": [
    "logreg_results = model_results(logreg)\n",
    "knn_results = model_results(knn)\n",
    "ad_c_results = model_results(ad_c)\n",
    "rfc_results = model_results(rfc)\n",
    "svc_results = model_results(svc)"
   ]
  },
  {
   "cell_type": "code",
   "execution_count": null,
   "metadata": {
    "execution": {
     "iopub.execute_input": "2022-07-04T12:00:24.822029Z",
     "iopub.status.busy": "2022-07-04T12:00:24.821495Z",
     "iopub.status.idle": "2022-07-04T12:00:24.829614Z",
     "shell.execute_reply": "2022-07-04T12:00:24.828145Z",
     "shell.execute_reply.started": "2022-07-04T12:00:24.821978Z"
    }
   },
   "outputs": [],
   "source": [
    "models = ['Logistic Regression', 'KNN', 'ADA Boost', 'Random Forest', 'SVM']\n",
    "model_results = [logreg_results, knn_results, ad_c_results, rfc_results, svc_results]"
   ]
  },
  {
   "cell_type": "code",
   "execution_count": null,
   "metadata": {
    "execution": {
     "iopub.execute_input": "2022-07-04T12:00:24.831715Z",
     "iopub.status.busy": "2022-07-04T12:00:24.831311Z",
     "iopub.status.idle": "2022-07-04T12:00:24.846619Z",
     "shell.execute_reply": "2022-07-04T12:00:24.845022Z",
     "shell.execute_reply.started": "2022-07-04T12:00:24.831677Z"
    }
   },
   "outputs": [],
   "source": [
    "accuracies = []\n",
    "precisions = []\n",
    "recalls = []\n",
    "for model in model_results :\n",
    "    accuracies.append(model.Accuracy.values)\n",
    "    precisions.append(model.Precision.values)\n",
    "    recalls.append(model.Recall.values)"
   ]
  },
  {
   "cell_type": "code",
   "execution_count": null,
   "metadata": {
    "execution": {
     "iopub.execute_input": "2022-07-04T12:00:24.850502Z",
     "iopub.status.busy": "2022-07-04T12:00:24.850095Z",
     "iopub.status.idle": "2022-07-04T12:00:24.866906Z",
     "shell.execute_reply": "2022-07-04T12:00:24.865437Z",
     "shell.execute_reply.started": "2022-07-04T12:00:24.850444Z"
    }
   },
   "outputs": [],
   "source": [
    "accuracies = pd.DataFrame(np.transpose(accuracies), columns=models, index=training_sizes*100)\n",
    "precisions = pd.DataFrame(np.transpose(precisions), columns=models, index=training_sizes*100)\n",
    "recalls = pd.DataFrame(np.transpose(recalls), columns=models, index=training_sizes*100)"
   ]
  },
  {
   "cell_type": "code",
   "execution_count": null,
   "metadata": {
    "execution": {
     "iopub.execute_input": "2022-07-04T12:00:24.869286Z",
     "iopub.status.busy": "2022-07-04T12:00:24.868866Z",
     "iopub.status.idle": "2022-07-04T12:00:24.891275Z",
     "shell.execute_reply": "2022-07-04T12:00:24.889572Z",
     "shell.execute_reply.started": "2022-07-04T12:00:24.869248Z"
    }
   },
   "outputs": [],
   "source": [
    "accuracies"
   ]
  },
  {
   "cell_type": "code",
   "execution_count": null,
   "metadata": {
    "execution": {
     "iopub.execute_input": "2022-07-04T12:00:24.894502Z",
     "iopub.status.busy": "2022-07-04T12:00:24.893540Z",
     "iopub.status.idle": "2022-07-04T12:00:24.909148Z",
     "shell.execute_reply": "2022-07-04T12:00:24.907772Z",
     "shell.execute_reply.started": "2022-07-04T12:00:24.894446Z"
    }
   },
   "outputs": [],
   "source": [
    "precisions"
   ]
  },
  {
   "cell_type": "code",
   "execution_count": null,
   "metadata": {
    "execution": {
     "iopub.execute_input": "2022-07-04T12:00:24.911959Z",
     "iopub.status.busy": "2022-07-04T12:00:24.910881Z",
     "iopub.status.idle": "2022-07-04T12:00:24.931291Z",
     "shell.execute_reply": "2022-07-04T12:00:24.930240Z",
     "shell.execute_reply.started": "2022-07-04T12:00:24.911911Z"
    }
   },
   "outputs": [],
   "source": [
    "recalls"
   ]
  }
 ],
 "metadata": {
  "kernelspec": {
   "display_name": "Python 3 (ipykernel)",
   "language": "python",
   "name": "python3"
  },
  "language_info": {
   "codemirror_mode": {
    "name": "ipython",
    "version": 3
   },
   "file_extension": ".py",
   "mimetype": "text/x-python",
   "name": "python",
   "nbconvert_exporter": "python",
   "pygments_lexer": "ipython3",
   "version": "3.10.9"
  }
 },
 "nbformat": 4,
 "nbformat_minor": 4
}
